{
  "nbformat": 4,
  "nbformat_minor": 0,
  "metadata": {
    "colab": {
      "provenance": [],
      "gpuType": "T4"
    },
    "kernelspec": {
      "name": "python3",
      "display_name": "Python 3"
    },
    "language_info": {
      "name": "python"
    },
    "accelerator": "GPU"
  },
  "cells": [
    {
      "cell_type": "code",
      "source": [
        "!pip install pymupdf faiss-cpu transformers accelerate\n",
        "!pip install -U langchain-community langchain-cohere"
      ],
      "metadata": {
        "id": "0dGwqcBC4DTC"
      },
      "execution_count": null,
      "outputs": []
    },
    {
      "cell_type": "code",
      "source": [
        "from langchain.document_loaders import PyMuPDFLoader\n",
        "from langchain.text_splitter import RecursiveCharacterTextSplitter\n",
        "from langchain.embeddings import HuggingFaceEmbeddings\n",
        "from langchain.vectorstores import FAISS\n",
        "from langchain.chains import RetrievalQA\n",
        "from langchain.llms import cohere\n",
        "from langchain.prompts import PromptTemplate\n",
        "from langchain_core.messages import HumanMessage\n",
        "import os"
      ],
      "metadata": {
        "id": "Tl16TRW-01jV"
      },
      "execution_count": 86,
      "outputs": []
    },
    {
      "cell_type": "code",
      "source": [
        "docs_folder = \"/content\"\n",
        "\n",
        "if not os.path.exists(docs_folder):\n",
        "  print(f\"Error: Folder '{docs_folder}' not found. Please create the folder and place your documents inside it.\")\n",
        "else:\n",
        "  loaders = [PyMuPDFLoader(os.path.join(docs_folder, fn)) for fn in os.listdir(docs_folder) if fn.endswith(\".pdf\")]\n",
        "  documents = []\n",
        "  for loader in loaders:\n",
        "    documents.extend(loader.load())\n",
        "  print(f\"Loaded {len(documents)} documents\")"
      ],
      "metadata": {
        "colab": {
          "base_uri": "https://localhost:8080/"
        },
        "id": "9-TAxxRn4uv1",
        "outputId": "0b538cf4-5d9f-4209-b44e-13c12475ce88"
      },
      "execution_count": 88,
      "outputs": [
        {
          "output_type": "stream",
          "name": "stdout",
          "text": [
            "Loaded 20 documents\n"
          ]
        }
      ]
    },
    {
      "cell_type": "code",
      "source": [
        "loader = PyMuPDFLoader(\"/content/cnns.pdf\")\n",
        "documents = loader.load()"
      ],
      "metadata": {
        "id": "Gqu0_YSu5OBQ"
      },
      "execution_count": null,
      "outputs": []
    },
    {
      "cell_type": "code",
      "source": [
        "text_splitter = RecursiveCharacterTextSplitter(chunk_size=1000, chunk_overlap=200)\n",
        "docs = text_splitter.split_documents(documents)"
      ],
      "metadata": {
        "id": "gq8yrB4U1e4B"
      },
      "execution_count": 89,
      "outputs": []
    },
    {
      "cell_type": "code",
      "source": [
        "embeddings = HuggingFaceEmbeddings()\n",
        "db = FAISS.from_documents(docs, embeddings)"
      ],
      "metadata": {
        "colab": {
          "base_uri": "https://localhost:8080/"
        },
        "id": "VIHwEzVu1ew0",
        "outputId": "4a5165fa-15e6-4525-e431-03b997da8f15"
      },
      "execution_count": 90,
      "outputs": [
        {
          "output_type": "stream",
          "name": "stderr",
          "text": [
            "<ipython-input-90-73ef5fccea5a>:1: LangChainDeprecationWarning: Default values for HuggingFaceEmbeddings.model_name were deprecated in LangChain 0.2.16 and will be removed in 0.4.0. Explicitly pass a model_name to the HuggingFaceEmbeddings constructor instead.\n",
            "  embeddings = HuggingFaceEmbeddings()\n"
          ]
        }
      ]
    },
    {
      "cell_type": "code",
      "source": [
        "prompt_template = \"\"\"Use the following pieces of context to answer the question at the end. If you don't know the answer, just say that you don't know, don't try to make up an answer.\n",
        "{context}\n",
        "Question: {question}\n",
        "Answer:\"\"\"\n",
        "PROMPT = PromptTemplate(template=prompt_template, input_variables=[\"context\", \"question\"])"
      ],
      "metadata": {
        "id": "fX79TUnR1nCN"
      },
      "execution_count": 91,
      "outputs": []
    },
    {
      "cell_type": "code",
      "source": [
        "api='LLPo5KmMNg5BwzC7Xpouw3NekKUW9kFl5uULqxjn'"
      ],
      "metadata": {
        "id": "A7bQFftZ23BG"
      },
      "execution_count": 78,
      "outputs": []
    },
    {
      "cell_type": "code",
      "source": [
        "llm = cohere.Cohere(cohere_api_key=api)\n",
        "qa_chain = RetrievalQA.from_chain_type(llm=llm, chain_type=\"stuff\", retriever=db.as_retriever(), return_source_documents=True, chain_type_kwargs={\"prompt\": PROMPT})"
      ],
      "metadata": {
        "id": "d5Pxwb0k3BTf"
      },
      "execution_count": 92,
      "outputs": []
    },
    {
      "cell_type": "code",
      "source": [
        "query = input(\"Enter your question: \")\n",
        "result = qa_chain({\"query\": query})\n",
        "print(result[\"result\"])"
      ],
      "metadata": {
        "colab": {
          "base_uri": "https://localhost:8080/"
        },
        "id": "ruBAnUIJ4Sxo",
        "outputId": "67691dd1-f36e-4da3-e8de-2a4b42aaf157"
      },
      "execution_count": 96,
      "outputs": [
        {
          "output_type": "stream",
          "name": "stdout",
          "text": [
            "Enter your question: tell me about trends in blockchain\n",
            " Blockchain technology has gained widespread popularity, and various trends are shaping its future development. Here are some notable trends in blockchain:\n",
            "\n",
            "1. Decentralized Finance (DeFi): DeFi is a rapidly growing ecosystem of financial applications and services built on blockchain networks. It aims to disrupt traditional financial systems by providing open and transparent financial services, such as decentralized lending, borrowing, and asset exchange. DeFi platforms leverage smart contracts to enable direct peer-to-peer transactions without intermediaries.\n",
            "\n",
            "2. Ethereum and Other Smart Contract Platforms: Ethereum, developed by Vitalik Buterin, is a significant player in the blockchain space. It introduced the concept of smart contracts, allowing developers to create decentralized applications (dApps) on top of its blockchain. Other smart contract platforms, such as EOS, TRON, and Cardano, have also gained popularity, providing alternative platforms for building scalable and decentralized applications.\n",
            "\n",
            "3. Interoperability and Blockchain Consortia: Blockchain interoperability aims to connect different blockchain networks, enabling seamless communication and asset transfer between them. Several initiatives and consortia are working on developing interoperability solutions, including the Inter-Blockchain Communication (IBC) protocol and the Polychain Foundation.\n",
            "\n",
            "4. Regulation and Government Adoption: Governments and regulatory bodies are increasingly recognizing the\n"
          ]
        }
      ]
    },
    {
      "cell_type": "code",
      "source": [
        "query = input(\"Enter your question: \")\n",
        "result = qa_chain({\"query\": query})\n",
        "print(result[\"result\"])"
      ],
      "metadata": {
        "colab": {
          "base_uri": "https://localhost:8080/"
        },
        "id": "XgqS9TkK5t8h",
        "outputId": "cc426a75-1dba-417e-d75b-848f13045534"
      },
      "execution_count": 98,
      "outputs": [
        {
          "output_type": "stream",
          "name": "stdout",
          "text": [
            "Enter your question: tell me anout rnn\n",
            " Unfortunately, I am not able to discuss specifically rnn since it was not included in the context provided. \n",
            "However, the recurrent neural network (RNN) is a type of neural network that has at least one recurrent layer, which is a layer in which each node is connected to at least two other nodes of the previous layer. It allows the storage of internal state for processing sequences of inputs, thus makes it possible to use past and current information to make predictions. \n",
            "\n",
            "Let me know if I can be of further help! \n"
          ]
        }
      ]
    }
  ]
}