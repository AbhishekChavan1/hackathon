{
  "nbformat": 4,
  "nbformat_minor": 0,
  "metadata": {
    "colab": {
      "provenance": []
    },
    "kernelspec": {
      "name": "python3",
      "display_name": "Python 3"
    },
    "language_info": {
      "name": "python"
    }
  },
  "cells": [
    {
      "cell_type": "code",
      "source": [
        "!pip install easyocr"
      ],
      "metadata": {
        "id": "LgGFgXN1AZ1w"
      },
      "execution_count": null,
      "outputs": []
    },
    {
      "cell_type": "code",
      "source": [
        "import easyocr\n",
        "import cv2\n",
        "image_path = '/content/the-bill-of-the-hotel.jpg'\n",
        "image = cv2.imread(image_path)\n",
        "reader = easyocr.Reader(['en'])\n",
        "results = reader.readtext(image)\n",
        "for (bbox, text, prob) in results:\n",
        "  print(f\"Text: {text}\")"
      ],
      "metadata": {
        "colab": {
          "base_uri": "https://localhost:8080/"
        },
        "id": "JNFOmSewAJ34",
        "outputId": "3527a411-fe3b-48b8-dca0-440f52dacc4e"
      },
      "execution_count": 10,
      "outputs": [
        {
          "output_type": "stream",
          "name": "stderr",
          "text": [
            "WARNING:easyocr.easyocr:Neither CUDA nor MPS are available - defaulting to CPU. Note: This module is much faster with a GPU.\n"
          ]
        },
        {
          "output_type": "stream",
          "name": "stdout",
          "text": [
            "Text: ODISHA HOTEL\n",
            "Text: ODIA CUISINE SINCE 2000\n",
            "Text: F-i 9\n",
            "Text: Chandrasckharpur; Bchind Trident\n",
            "Text: College Infoclty, Bhubaneswar-751024\n",
            "Text: Cantact\n",
            "Text: 9090110077\n",
            "Text: GSTIN : 21FZPPST850H1Z4\n",
            "Text: Name\n",
            "Text: Date: 15/04/22\n",
            "Text: Dine In: 92\n",
            "Text: (2.50\n",
            "Text: Cashier\n",
            "Text: Bill No,\n",
            "Text: 2760\n",
            "Text: atem\n",
            "Text: Qty:\n",
            "Text: Price Amount\n",
            "Text: Broiler Chicken Thall\n",
            "Text: 380,00\n",
            "Text: 380.00\n",
            "Text: Special Veg Thali\n",
            "Text: 300.00\n",
            "Text: 300.00\n",
            "Text: Paratha\n",
            "Text: 30,00\n",
            "Text: 60.00\n",
            "Text: Total Qty:\n",
            "Text: Sub Total\n",
            "Text: 740.00\n",
            "Text: CGST\n",
            "Text: 2.590\n",
            "Text: 18.50\n",
            "Text: SGST\n",
            "Text: 2.59\n",
            "Text: 18.50\n",
            "Text: Grand Total\n",
            "Text: {777.00\n",
            "Text: FSSAI Lic No. 12018033000205\n",
            "Text: Thank You !!! Visit Again !!!\n"
          ]
        }
      ]
    }
  ]
}